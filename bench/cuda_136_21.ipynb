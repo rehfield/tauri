{
 "cells": [
  {
   "cell_type": "code",
   "execution_count": null,
   "metadata": {
    "colab": {
     "base_uri": "https://localhost:8080/"
    },
    "id": "lxOEAi4UZdqh",
    "outputId": "8180d840-7cbb-4879-e59f-ada5439eca93"
   },
   "outputs": [
    {
     "name": "stdout",
     "output_type": "stream",
     "text": [
      "already installed.\n",
      "/content/fusion\n",
      "error: XDG_RUNTIME_DIR not set in the environment.\n",
      "ALSA lib confmisc.c:855:(parse_card) cannot find card '0'\n",
      "ALSA lib conf.c:5178:(_snd_config_evaluate) function snd_func_card_inum returned error: No such file or directory\n",
      "ALSA lib confmisc.c:422:(snd_func_concat) error evaluating strings\n",
      "ALSA lib conf.c:5178:(_snd_config_evaluate) function snd_func_concat returned error: No such file or directory\n",
      "ALSA lib confmisc.c:1334:(snd_func_refer) error evaluating name\n",
      "ALSA lib conf.c:5178:(_snd_config_evaluate) function snd_func_refer returned error: No such file or directory\n",
      "ALSA lib conf.c:5701:(snd_config_expand) Evaluate error: No such file or directory\n",
      "ALSA lib pcm.c:2664:(snd_pcm_open_noupdate) Unknown PCM default\n",
      "ALSA lib confmisc.c:855:(parse_card) cannot find card '0'\n",
      "ALSA lib conf.c:5178:(_snd_config_evaluate) function snd_func_card_inum returned error: No such file or directory\n",
      "ALSA lib confmisc.c:422:(snd_func_concat) error evaluating strings\n",
      "ALSA lib conf.c:5178:(_snd_config_evaluate) function snd_func_concat returned error: No such file or directory\n",
      "ALSA lib confmisc.c:1334:(snd_func_refer) error evaluating name\n",
      "ALSA lib conf.c:5178:(_snd_config_evaluate) function snd_func_refer returned error: No such file or directory\n",
      "ALSA lib conf.c:5701:(snd_config_expand) Evaluate error: No such file or directory\n",
      "ALSA lib pcm.c:2664:(snd_pcm_open_noupdate) Unknown PCM default\n",
      "Request successful\n",
      "{'code': 0, 'info': 'ok', 'data': {'_id': '6755ec5d6312ad203ae9757f', 'user_name': 'davidesp81@gmail.com', 'user_id': '65e5da94e804c91f17bc5807', 'task_state': 0, 'finish': 0, 'is_enhancement': 1, 'duration': 1, 'file_type': 1, 'preprocessing': 0, 'start_time': 0, 'end_time': 0, 'reference_frame_number': 30, 'need_credit': 2, 'face_id': '6755eb026312ad203ae97467', 'media_id': '6755ec566312ad203ae97577', 'finish_media_id': '6755ec5d6312ad203ae9757e', 'face_url': 'https://waf-cloudflare.com/9ebee580b59511ef9c985fc5fc70d452.jpg', 'media_url': 'https://waf-cloudflare.com/69aa6030b59611ef9c985fc5fc70d452.jpg', 'finish_media_url': '', 'task_log': [{'t': 1733684317834, 'info': 'waiting...'}, {'t': 1733684320322, 'info': 'start...'}], 'process': 0, 'process_tip': 'Tasks are queued for processing', 'total_frame': 0, 'show_id': '336843178', 'remark': '', 'domain': 'fakeface.io', 'site_id': '65f7331c8b17ce0d818f7433', 'language': 'es-ES,es;q=0.9', 'origin': 'https://fakeface.io', 'ip': '178.237.224.231', 'header': {'upgrade': 'websocket', 'connection': 'upgrade', 'host': 'api.fakeface.io', 'x-real-ip': '178.237.224.231', 'x-forwarded-for': '178.237.224.231', 'x-forwarded-proto': 'https', 'pragma': 'no-cache', 'cache-control': 'no-cache', 'user-agent': 'Mozilla/5.0 (Windows NT 10.0; Win64; x64) AppleWebKit/537.36 (KHTML, like Gecko) Chrome/131.0.0.0 Safari/537.36', 'origin': 'https://fakeface.io', 'sec-websocket-version': '13', 'accept-encoding': 'gzip, deflate, br, zstd', 'accept-language': 'es-ES,es;q=0.9', 'cookie': '_ga=GA1.1.1605449091.1729525096; _clck=e8xhlj%7C2%7Cfrj%7C0%7C1755; _clsk=he0ivd%7C1733678460817%7C1%7C1%7Cl.clarity.ms%2Fcollect; _ga_3W1D1WVGS2=GS1.1.1733678463.29.0.1733678463.0.0.0', 'sec-websocket-key': 'y9I9mf6Ay/57ZkB0gVnWAg==', 'sec-websocket-extensions': 'permessage-deflate; client_max_window_bits'}, 'area': '欧洲,西班牙,undefined', 'gps': '39.4923,-0.4046', 'os': 'WindowsWindows 10', 'browser': 'Chrome', 'add_time': 1733684317834, 'del_time': 0, 'edit_time': 1733684317834, 'media': {'_id': '6755ec566312ad203ae97577', 'user_id': '65e5da94e804c91f17bc5807', 'file_from': 'upload', 'file_url': 'https://waf-cloudflare.com/69aa6030b59611ef9c985fc5fc70d452.jpg', 'thumb_url': 'https://waf-cloudflare.com/69aa6030b59611ef9c985fc5fc70d452.jpg', 'file_hash': '173368431027317336843016921733684301691228257251_068-gigapixel-standard-scale-4_00x.jpeg', 'file_size': 0, 'file_extension': 'jpg', 'duration': 1, 'download': 1, 'remark': '', 'file_type': 1, 'total_frame': 1, 'add_time': 1733684310275, 'del_time': 0, 'edit_time': 1733684310275}, 'face': {'_id': '6755eb026312ad203ae97467', 'user_id': '65e5da94e804c91f17bc5807', 'file_from': 'upload', 'file_url': 'https://waf-cloudflare.com/9ebee580b59511ef9c985fc5fc70d452.jpg', 'thumb_url': 'https://waf-cloudflare.com/9ebee580b59511ef9c985fc5fc70d452.jpg', 'file_hash': '173368397024417336839616803648461072136946494.jpg', 'file_size': 0, 'file_extension': 'jpg', 'duration': 1, 'download': 1, 'remark': '', 'file_type': 4, 'total_frame': 1, 'add_time': 1733683970245, 'del_time': 0, 'edit_time': 1733683970245}}}\n",
      "文件 'face.png' 不存在，无需删除。\n",
      "文件 'media.gif' 不存在，无需删除。\n",
      "文件 'media.png' 不存在，无需删除。\n",
      "文件 'media.mp4' 不存在，无需删除。\n",
      "文件 'media_out.gif' 不存在，无需删除。\n",
      "文件 'media_out.mp4' 不存在，无需删除。\n",
      "文件 'media_out.jpg' 已被删除。\n",
      "temp have been removed.\n",
      "File 'media.jpg' downloaded and saved successfully.\n",
      "File 'face.jpg' downloaded and saved successfully.\n",
      "Successfully added border to face.jpg and saved to face.jpg\n",
      "is_enhancement, reference_frame_number 1 30\n",
      "media.jpg face.jpg media_out.jpg\n"
     ]
    }
   ],
   "source": [
    "\n",
    "import os\n",
    "\n",
    "\n",
    "filename = 'installed'\n",
    "if not os.path.exists(filename):\n",
    "   print(f'install...')\n",
    "#   !apt install imagemagick\n",
    "#   !wget https://github.com/lab861265/fusion/releases/download/aa/onnxruntime_gpu-1.16.3-cp310-cp310-linux_x86_64.whl\n",
    "   !git clone https://github.com/lab861265/fusion.git fusion\n",
    "   %cd /content/fusion\n",
    "#   !python install.py --torch cuda-nightly --onnxruntime cuda-nightly --skip-venv\n",
    "   !python install.py --torch cuda-nightly --onnxruntime default --skip-venv\n",
    "#   !pip uninstall -y -q onnxruntime\n",
    "#   !pip install /content/onnxruntime_gpu-1.16.3-cp310-cp310-linux_x86_64.whl\n",
    "\n",
    "\n",
    "   !echo \"ok\" > {filename}\n",
    "   print(f'install success.')\n",
    "else:\n",
    "   print(f'already installed.')\n",
    "\n",
    "\n",
    "%cd /content/fusion\n",
    "!rm -rf temp\n",
    "!rm -rf face.*\n",
    "!rm -rf media.*\n",
    "!rm -rf out_media.*\n",
    "!rm -rf src_media.*\n",
    "!python main.py cpu cpu_211_21 123123"
   ]
  }
 ],
 "metadata": {
  "colab": {
   "authorship_tag": "ABX9TyOPUCarxW7W0pZ5kS8lv9Q3",
   "machine_shape": "hm",
   "provenance": []
  },
  "kernelspec": {
   "display_name": "Python 3",
   "name": "python3"
  },
  "language_info": {
   "name": "python"
  }
 },
 "nbformat": 4,
 "nbformat_minor": 0
}
