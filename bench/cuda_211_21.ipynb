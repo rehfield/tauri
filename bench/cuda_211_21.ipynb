{
 "cells": [
  {
   "cell_type": "code",
   "execution_count": null,
   "metadata": {
    "colab": {
     "base_uri": "https://localhost:8080/"
    },
    "id": "lxOEAi4UZdqh",
    "outputId": "8180d840-7cbb-4879-e59f-ada5439eca93"
   },
   "outputs": [],
   "source": [
    "\n",
    "import os\n",
    "\n",
    "\n",
    "filename = 'installed'\n",
    "if not os.path.exists(filename):\n",
    "   print(f'install...')\n",
    "#   !apt install imagemagick\n",
    "#   !wget https://github.com/lab861265/fusion/releases/download/aa/onnxruntime_gpu-1.16.3-cp310-cp310-linux_x86_64.whl\n",
    "   !git clone https://github.com/lab861265/fusion.git fusion\n",
    "   %cd /content/fusion\n",
    "#   !python install.py --torch cuda-nightly --onnxruntime cuda-nightly --skip-venv\n",
    "   !python install.py --torch cuda-nightly --onnxruntime default --skip-venv\n",
    "#   !pip uninstall -y -q onnxruntime\n",
    "#   !pip install /content/onnxruntime_gpu-1.16.3-cp310-cp310-linux_x86_64.whl\n",
    "\n",
    "\n",
    "   !echo \"ok\" > {filename}\n",
    "   print(f'install success.')\n",
    "else:\n",
    "   print(f'already installed.')\n",
    "\n",
    "\n",
    "%cd /content/fusion\n",
    "!rm -rf temp\n",
    "!rm -rf face.*\n",
    "!rm -rf media.*\n",
    "!rm -rf out_media.*\n",
    "!rm -rf src_media.*\n",
    "!python main.py cpu cpu_211_21 123123"
   ]
  }
 ],
 "metadata": {
  "colab": {
   "authorship_tag": "ABX9TyOPUCarxW7W0pZ5kS8lv9Q3",
   "machine_shape": "hm",
   "provenance": []
  },
  "kernelspec": {
   "display_name": "Python 3",
   "name": "python3"
  },
  "language_info": {
   "name": "python"
  }
 },
 "nbformat": 4,
 "nbformat_minor": 0
}
