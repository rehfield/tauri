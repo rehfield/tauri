{
 "cells": [
  {
   "cell_type": "code",
   "execution_count": null,
   "metadata": {
    "colab": {
     "background_save": true,
     "base_uri": "https://localhost:8080/"
    },
    "id": "zizTWV3FZaTK",
    "outputId": "6b637612-a706-4b81-d61a-7ee6ce421b80"
   },
   "outputs": [],
   "source": [
    "\n",
    "import os\n",
    "\n",
    "filename = 'installed'\n",
    "if not os.path.exists(filename):\n",
    "    print(f'install...')\n",
    "    !apt install imagemagick\n",
    "    !wget https://github.com/lab861265/fusion/releases/download/aa/onnxruntime_gpu-1.16.3-cp310-cp310-linux_x86_64.whl\n",
    "    !git clone https://github.com/lab861265/fusion2.git fusion\n",
    "    %cd /content/fusion\n",
    " #   !python install.py --torch cuda-nightly --onnxruntime cuda-nightly --skip-venv\n",
    "    !python install.py --torch cuda-nightly --onnxruntime default --skip-venv\n",
    "    !pip uninstall -y -q onnxruntime\n",
    "    !pip install /content/onnxruntime_gpu-1.16.3-cp310-cp310-linux_x86_64.whl\n",
    "\n",
    "    !pip install numpy==\"1.26.2\"\n",
    "    !echo \"ok\" > {filename}\n",
    "    print(f'install success.')\n",
    "else:\n",
    "    print(f'already installed.')\n",
    "\n",
    "%cd /content/fusion\n",
    "!rm -rf temp\n",
    "!rm -rf face.*\n",
    "!rm -rf media.*\n",
    "!rm -rf out_media.*\n",
    "!rm -rf src_media.*\n",
    "!python main.py cuda cuda_114_2 123123"
   ]
  },
  {
   "cell_type": "code",
   "execution_count": null,
   "metadata": {
    "id": "vVsD30rfaF_q"
   },
   "outputs": [],
   "source": [
    "from google.colab import runtime\n",
    "runtime.unassign()"
   ]
  }
 ],
 "metadata": {
  "accelerator": "GPU",
  "colab": {
   "authorship_tag": "ABX9TyOC7hsmaXaLE/k5xlJHRyWI",
   "gpuType": "T4",
   "machine_shape": "hm",
   "provenance": []
  },
  "kernelspec": {
   "display_name": "Python 3",
   "name": "python3"
  },
  "language_info": {
   "name": "python"
  }
 },
 "nbformat": 4,
 "nbformat_minor": 0
}
